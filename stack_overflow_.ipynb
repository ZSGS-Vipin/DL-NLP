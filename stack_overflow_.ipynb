{
 "cells": [
  {
   "cell_type": "code",
   "execution_count": 1,
   "id": "8147f4d4",
   "metadata": {},
   "outputs": [
    {
     "name": "stderr",
     "output_type": "stream",
     "text": [
      "[nltk_data] Downloading package punkt to\n",
      "[nltk_data]     /Users/vipin-16319/nltk_data...\n",
      "[nltk_data]   Package punkt is already up-to-date!\n"
     ]
    }
   ],
   "source": [
    "import pandas as pd\n",
    "import numpy as np\n",
    "from tensorflow.keras.models import Sequential\n",
    "from tensorflow.keras.layers import Dense, Conv1D, MaxPooling1D, Flatten\n",
    "from tensorflow.keras.wrappers.scikit_learn import KerasClassifier\n",
    "from sklearn.model_selection import GridSearchCV\n",
    "from nltk.corpus import stopwords\n",
    "stop = stopwords.words('english')\n",
    "from sklearn.model_selection import train_test_split\n",
    "import nltk\n",
    "from nltk.tokenize import word_tokenize\n",
    "nltk.download('punkt')\n",
    "from gensim.models import Word2Vec\n",
    "import numpy as np\n",
    "from tensorflow.keras.models import Sequential\n",
    "from tensorflow.keras.layers import Dense\n",
    "from tensorflow.keras.utils import to_categorical\n",
    "from tensorflow.keras.callbacks import Callback\n",
    "from sklearn.metrics import accuracy_score, precision_score, recall_score, f1_score\n",
    "from tqdm.keras import TqdmCallback\n",
    "from sklearn.preprocessing import normalize\n",
    "from sentence_transformers import SentenceTransformer"
   ]
  },
  {
   "cell_type": "code",
   "execution_count": 2,
   "id": "a43d8f1a",
   "metadata": {},
   "outputs": [
    {
     "data": {
      "text/plain": [
       "(140272, 8)"
      ]
     },
     "execution_count": 2,
     "metadata": {},
     "output_type": "execute_result"
    }
   ],
   "source": [
    "df = pd.read_csv('/Users/vipin-16319/Downloads/train-sample.csv')\n",
    "df = df.drop(columns=['PostId','PostCreationDate','OwnerUserId','OwnerCreationDate','ReputationAtPostCreation','OwnerUndeletedAnswerCountAtPostTime','PostClosedDate'],axis=1)\n",
    "df.shape"
   ]
  },
  {
   "cell_type": "code",
   "execution_count": 3,
   "id": "47f140a3",
   "metadata": {},
   "outputs": [
    {
     "data": {
      "text/html": [
       "<div>\n",
       "<style scoped>\n",
       "    .dataframe tbody tr th:only-of-type {\n",
       "        vertical-align: middle;\n",
       "    }\n",
       "\n",
       "    .dataframe tbody tr th {\n",
       "        vertical-align: top;\n",
       "    }\n",
       "\n",
       "    .dataframe thead th {\n",
       "        text-align: right;\n",
       "    }\n",
       "</style>\n",
       "<table border=\"1\" class=\"dataframe\">\n",
       "  <thead>\n",
       "    <tr style=\"text-align: right;\">\n",
       "      <th></th>\n",
       "      <th>Title</th>\n",
       "      <th>BodyMarkdown</th>\n",
       "      <th>Tag1</th>\n",
       "      <th>Tag2</th>\n",
       "      <th>Tag3</th>\n",
       "      <th>Tag4</th>\n",
       "      <th>Tag5</th>\n",
       "      <th>OpenStatus</th>\n",
       "    </tr>\n",
       "  </thead>\n",
       "  <tbody>\n",
       "    <tr>\n",
       "      <th>0</th>\n",
       "      <td>For Mongodb is it better to reference an objec...</td>\n",
       "      <td>I am building a corpus of indexed sentences in...</td>\n",
       "      <td>mongodb</td>\n",
       "      <td>NaN</td>\n",
       "      <td>NaN</td>\n",
       "      <td>NaN</td>\n",
       "      <td>NaN</td>\n",
       "      <td>0</td>\n",
       "    </tr>\n",
       "    <tr>\n",
       "      <th>1</th>\n",
       "      <td>How to insert schemalocation in a xml document...</td>\n",
       "      <td>i create a xml document with JAXP and search a...</td>\n",
       "      <td>dom</td>\n",
       "      <td>xsd</td>\n",
       "      <td>jaxp</td>\n",
       "      <td>NaN</td>\n",
       "      <td>NaN</td>\n",
       "      <td>0</td>\n",
       "    </tr>\n",
       "    <tr>\n",
       "      <th>2</th>\n",
       "      <td>Too many lookup tables</td>\n",
       "      <td>What are the adverse effects of having too man...</td>\n",
       "      <td>sql-server</td>\n",
       "      <td>database-design</td>\n",
       "      <td>enums</td>\n",
       "      <td>NaN</td>\n",
       "      <td>NaN</td>\n",
       "      <td>0</td>\n",
       "    </tr>\n",
       "    <tr>\n",
       "      <th>3</th>\n",
       "      <td>What is this PHP code in VB.net</td>\n",
       "      <td>I am looking for the vb.net equivalent of this...</td>\n",
       "      <td>php</td>\n",
       "      <td>vb.net</td>\n",
       "      <td>NaN</td>\n",
       "      <td>NaN</td>\n",
       "      <td>NaN</td>\n",
       "      <td>4</td>\n",
       "    </tr>\n",
       "    <tr>\n",
       "      <th>4</th>\n",
       "      <td>Spring-Data mongodb querying multiple classes ...</td>\n",
       "      <td>With Spring-Data, you can use the @Document an...</td>\n",
       "      <td>mongodb</td>\n",
       "      <td>spring-data</td>\n",
       "      <td>NaN</td>\n",
       "      <td>NaN</td>\n",
       "      <td>NaN</td>\n",
       "      <td>0</td>\n",
       "    </tr>\n",
       "  </tbody>\n",
       "</table>\n",
       "</div>"
      ],
      "text/plain": [
       "                                               Title   \n",
       "0  For Mongodb is it better to reference an objec...  \\\n",
       "1  How to insert schemalocation in a xml document...   \n",
       "2                            Too many lookup tables    \n",
       "3                    What is this PHP code in VB.net   \n",
       "4  Spring-Data mongodb querying multiple classes ...   \n",
       "\n",
       "                                        BodyMarkdown        Tag1   \n",
       "0  I am building a corpus of indexed sentences in...     mongodb  \\\n",
       "1  i create a xml document with JAXP and search a...         dom   \n",
       "2  What are the adverse effects of having too man...  sql-server   \n",
       "3  I am looking for the vb.net equivalent of this...         php   \n",
       "4  With Spring-Data, you can use the @Document an...     mongodb   \n",
       "\n",
       "              Tag2   Tag3 Tag4 Tag5  OpenStatus  \n",
       "0              NaN    NaN  NaN  NaN           0  \n",
       "1              xsd   jaxp  NaN  NaN           0  \n",
       "2  database-design  enums  NaN  NaN           0  \n",
       "3           vb.net    NaN  NaN  NaN           4  \n",
       "4      spring-data    NaN  NaN  NaN           0  "
      ]
     },
     "execution_count": 3,
     "metadata": {},
     "output_type": "execute_result"
    }
   ],
   "source": [
    "df['OpenStatus']= df['OpenStatus'].map({'open': 0, 'not a real question': 1, 'off topic': 2, 'not constructive': 3, 'too localized': 4}) \n",
    "df.head()"
   ]
  },
  {
   "cell_type": "code",
   "execution_count": 4,
   "id": "437b3816",
   "metadata": {},
   "outputs": [],
   "source": [
    "df['Tag1']=df['Tag1'].replace(np.nan,' ')\n",
    "df['Tag2']=df['Tag2'].replace(np.nan,' ')\n",
    "df['Tag3']=df['Tag3'].replace(np.nan,' ')\n",
    "df['Tag4']=df['Tag4'].replace(np.nan,' ')\n",
    "df['Tag5']=df['Tag5'].replace(np.nan,' ')\n",
    "df['Tags']=df['Tag1']+' '+df['Tag2']+' '+df['Tag3']+' '+df['Tag4']+' '+df['Tag5']"
   ]
  },
  {
   "cell_type": "code",
   "execution_count": 5,
   "id": "181c5255",
   "metadata": {},
   "outputs": [
    {
     "data": {
      "text/html": [
       "<div>\n",
       "<style scoped>\n",
       "    .dataframe tbody tr th:only-of-type {\n",
       "        vertical-align: middle;\n",
       "    }\n",
       "\n",
       "    .dataframe tbody tr th {\n",
       "        vertical-align: top;\n",
       "    }\n",
       "\n",
       "    .dataframe thead th {\n",
       "        text-align: right;\n",
       "    }\n",
       "</style>\n",
       "<table border=\"1\" class=\"dataframe\">\n",
       "  <thead>\n",
       "    <tr style=\"text-align: right;\">\n",
       "      <th></th>\n",
       "      <th>Title</th>\n",
       "      <th>BodyMarkdown</th>\n",
       "      <th>OpenStatus</th>\n",
       "      <th>Tags</th>\n",
       "    </tr>\n",
       "  </thead>\n",
       "  <tbody>\n",
       "    <tr>\n",
       "      <th>0</th>\n",
       "      <td>For Mongodb is it better to reference an objec...</td>\n",
       "      <td>I am building a corpus of indexed sentences in...</td>\n",
       "      <td>0</td>\n",
       "      <td>mongodb</td>\n",
       "    </tr>\n",
       "    <tr>\n",
       "      <th>1</th>\n",
       "      <td>How to insert schemalocation in a xml document...</td>\n",
       "      <td>i create a xml document with JAXP and search a...</td>\n",
       "      <td>0</td>\n",
       "      <td>dom xsd jaxp</td>\n",
       "    </tr>\n",
       "    <tr>\n",
       "      <th>2</th>\n",
       "      <td>Too many lookup tables</td>\n",
       "      <td>What are the adverse effects of having too man...</td>\n",
       "      <td>0</td>\n",
       "      <td>sql-server database-design enums</td>\n",
       "    </tr>\n",
       "    <tr>\n",
       "      <th>3</th>\n",
       "      <td>What is this PHP code in VB.net</td>\n",
       "      <td>I am looking for the vb.net equivalent of this...</td>\n",
       "      <td>4</td>\n",
       "      <td>php vb.net</td>\n",
       "    </tr>\n",
       "    <tr>\n",
       "      <th>4</th>\n",
       "      <td>Spring-Data mongodb querying multiple classes ...</td>\n",
       "      <td>With Spring-Data, you can use the @Document an...</td>\n",
       "      <td>0</td>\n",
       "      <td>mongodb spring-data</td>\n",
       "    </tr>\n",
       "  </tbody>\n",
       "</table>\n",
       "</div>"
      ],
      "text/plain": [
       "                                               Title   \n",
       "0  For Mongodb is it better to reference an objec...  \\\n",
       "1  How to insert schemalocation in a xml document...   \n",
       "2                            Too many lookup tables    \n",
       "3                    What is this PHP code in VB.net   \n",
       "4  Spring-Data mongodb querying multiple classes ...   \n",
       "\n",
       "                                        BodyMarkdown  OpenStatus   \n",
       "0  I am building a corpus of indexed sentences in...           0  \\\n",
       "1  i create a xml document with JAXP and search a...           0   \n",
       "2  What are the adverse effects of having too man...           0   \n",
       "3  I am looking for the vb.net equivalent of this...           4   \n",
       "4  With Spring-Data, you can use the @Document an...           0   \n",
       "\n",
       "                                   Tags  \n",
       "0                       mongodb          \n",
       "1                      dom xsd jaxp      \n",
       "2  sql-server database-design enums      \n",
       "3                      php vb.net        \n",
       "4             mongodb spring-data        "
      ]
     },
     "execution_count": 5,
     "metadata": {},
     "output_type": "execute_result"
    }
   ],
   "source": [
    "df=df.drop(['Tag1','Tag2','Tag3','Tag4','Tag5'],axis=1)\n",
    "df.head()"
   ]
  },
  {
   "cell_type": "code",
   "execution_count": 6,
   "id": "180c6747",
   "metadata": {},
   "outputs": [
    {
     "data": {
      "text/html": [
       "<div>\n",
       "<style scoped>\n",
       "    .dataframe tbody tr th:only-of-type {\n",
       "        vertical-align: middle;\n",
       "    }\n",
       "\n",
       "    .dataframe tbody tr th {\n",
       "        vertical-align: top;\n",
       "    }\n",
       "\n",
       "    .dataframe thead th {\n",
       "        text-align: right;\n",
       "    }\n",
       "</style>\n",
       "<table border=\"1\" class=\"dataframe\">\n",
       "  <thead>\n",
       "    <tr style=\"text-align: right;\">\n",
       "      <th></th>\n",
       "      <th>OpenStatus</th>\n",
       "      <th>combined_data</th>\n",
       "    </tr>\n",
       "  </thead>\n",
       "  <tbody>\n",
       "    <tr>\n",
       "      <th>0</th>\n",
       "      <td>0</td>\n",
       "      <td>For Mongodb is it better to reference an objec...</td>\n",
       "    </tr>\n",
       "    <tr>\n",
       "      <th>1</th>\n",
       "      <td>0</td>\n",
       "      <td>How to insert schemalocation in a xml document...</td>\n",
       "    </tr>\n",
       "    <tr>\n",
       "      <th>2</th>\n",
       "      <td>0</td>\n",
       "      <td>Too many lookup tables  What are the adverse e...</td>\n",
       "    </tr>\n",
       "    <tr>\n",
       "      <th>3</th>\n",
       "      <td>4</td>\n",
       "      <td>What is this PHP code in VB.net I am looking f...</td>\n",
       "    </tr>\n",
       "    <tr>\n",
       "      <th>4</th>\n",
       "      <td>0</td>\n",
       "      <td>Spring-Data mongodb querying multiple classes ...</td>\n",
       "    </tr>\n",
       "  </tbody>\n",
       "</table>\n",
       "</div>"
      ],
      "text/plain": [
       "   OpenStatus                                      combined_data\n",
       "0           0  For Mongodb is it better to reference an objec...\n",
       "1           0  How to insert schemalocation in a xml document...\n",
       "2           0  Too many lookup tables  What are the adverse e...\n",
       "3           4  What is this PHP code in VB.net I am looking f...\n",
       "4           0  Spring-Data mongodb querying multiple classes ..."
      ]
     },
     "execution_count": 6,
     "metadata": {},
     "output_type": "execute_result"
    }
   ],
   "source": [
    "df['combined_data'] = df['Title'] + ' ' + df['BodyMarkdown'] + ' ' + df['Tags']\n",
    "df = df.drop(columns=['Title','BodyMarkdown','Tags'],axis=1)\n",
    "df.head()"
   ]
  },
  {
   "cell_type": "code",
   "execution_count": 7,
   "id": "e54e7b09",
   "metadata": {},
   "outputs": [],
   "source": [
    "def preprocess_text(text):\n",
    "    text = text.lower()\n",
    "    unwanted_chars = [\n",
    "        \",\",\n",
    "        \"+\",\n",
    "        \":\",\n",
    "        \"?\",\n",
    "        \"!\",\n",
    "        '\"',\n",
    "        \"(\",\n",
    "        \")\",\n",
    "        \"'\",\n",
    "        \".\",\n",
    "        \"%\",\n",
    "        \"[\",\n",
    "        \"]\",\n",
    "        \"/\",\n",
    "        \"#\",\n",
    "        \"-\",\n",
    "        \"@\",\n",
    "        \"$\",\n",
    "        \"*\",\n",
    "        \"_\",\n",
    "    ]\n",
    "    clean_text = \" \"\n",
    "    for char in text:\n",
    "        if char not in unwanted_chars:\n",
    "            clean_text += char\n",
    "\n",
    "    words = clean_text.split()\n",
    "    filter_text = [word for word in words if len(word) > 1 or word.isdigit()]\n",
    "    text = \" \".join(filter_text)\n",
    "    return text"
   ]
  },
  {
   "cell_type": "code",
   "execution_count": 8,
   "id": "e74b3b43",
   "metadata": {},
   "outputs": [],
   "source": [
    "df['cleaned_data'] = df['combined_data'].apply(preprocess_text) "
   ]
  },
  {
   "cell_type": "code",
   "execution_count": 9,
   "id": "a2e7f49b",
   "metadata": {},
   "outputs": [],
   "source": [
    "df = df.drop(columns=['combined_data'],axis=1)"
   ]
  },
  {
   "cell_type": "code",
   "execution_count": 10,
   "id": "fe6264f1",
   "metadata": {},
   "outputs": [
    {
     "data": {
      "text/html": [
       "<div>\n",
       "<style scoped>\n",
       "    .dataframe tbody tr th:only-of-type {\n",
       "        vertical-align: middle;\n",
       "    }\n",
       "\n",
       "    .dataframe tbody tr th {\n",
       "        vertical-align: top;\n",
       "    }\n",
       "\n",
       "    .dataframe thead th {\n",
       "        text-align: right;\n",
       "    }\n",
       "</style>\n",
       "<table border=\"1\" class=\"dataframe\">\n",
       "  <thead>\n",
       "    <tr style=\"text-align: right;\">\n",
       "      <th></th>\n",
       "      <th>OpenStatus</th>\n",
       "      <th>cleaned_data</th>\n",
       "    </tr>\n",
       "  </thead>\n",
       "  <tbody>\n",
       "    <tr>\n",
       "      <th>0</th>\n",
       "      <td>0</td>\n",
       "      <td>for mongodb is it better to reference an objec...</td>\n",
       "    </tr>\n",
       "    <tr>\n",
       "      <th>1</th>\n",
       "      <td>0</td>\n",
       "      <td>how to insert schemalocation in xml document v...</td>\n",
       "    </tr>\n",
       "    <tr>\n",
       "      <th>2</th>\n",
       "      <td>0</td>\n",
       "      <td>too many lookup tables what are the adverse ef...</td>\n",
       "    </tr>\n",
       "    <tr>\n",
       "      <th>3</th>\n",
       "      <td>4</td>\n",
       "      <td>what is this php code in vbnet am looking for ...</td>\n",
       "    </tr>\n",
       "    <tr>\n",
       "      <th>4</th>\n",
       "      <td>0</td>\n",
       "      <td>springdata mongodb querying multiple classes s...</td>\n",
       "    </tr>\n",
       "    <tr>\n",
       "      <th>...</th>\n",
       "      <td>...</td>\n",
       "      <td>...</td>\n",
       "    </tr>\n",
       "    <tr>\n",
       "      <th>140267</th>\n",
       "      <td>0</td>\n",
       "      <td>is it possible to implement bitwise operators ...</td>\n",
       "    </tr>\n",
       "    <tr>\n",
       "      <th>140268</th>\n",
       "      <td>0</td>\n",
       "      <td>ruby on rails mysql gem does not work uninitia...</td>\n",
       "    </tr>\n",
       "    <tr>\n",
       "      <th>140269</th>\n",
       "      <td>1</td>\n",
       "      <td>deleting image from image folder am working wi...</td>\n",
       "    </tr>\n",
       "    <tr>\n",
       "      <th>140270</th>\n",
       "      <td>1</td>\n",
       "      <td>need help making htmls hi to all the gurus out...</td>\n",
       "    </tr>\n",
       "    <tr>\n",
       "      <th>140271</th>\n",
       "      <td>0</td>\n",
       "      <td>how dangerous is it to output certain content ...</td>\n",
       "    </tr>\n",
       "  </tbody>\n",
       "</table>\n",
       "<p>140272 rows × 2 columns</p>\n",
       "</div>"
      ],
      "text/plain": [
       "        OpenStatus                                       cleaned_data\n",
       "0                0  for mongodb is it better to reference an objec...\n",
       "1                0  how to insert schemalocation in xml document v...\n",
       "2                0  too many lookup tables what are the adverse ef...\n",
       "3                4  what is this php code in vbnet am looking for ...\n",
       "4                0  springdata mongodb querying multiple classes s...\n",
       "...            ...                                                ...\n",
       "140267           0  is it possible to implement bitwise operators ...\n",
       "140268           0  ruby on rails mysql gem does not work uninitia...\n",
       "140269           1  deleting image from image folder am working wi...\n",
       "140270           1  need help making htmls hi to all the gurus out...\n",
       "140271           0  how dangerous is it to output certain content ...\n",
       "\n",
       "[140272 rows x 2 columns]"
      ]
     },
     "execution_count": 10,
     "metadata": {},
     "output_type": "execute_result"
    }
   ],
   "source": [
    "df"
   ]
  },
  {
   "cell_type": "code",
   "execution_count": 11,
   "id": "ffc3036c",
   "metadata": {},
   "outputs": [],
   "source": [
    "df['cleaned_data'] = df['cleaned_data'].apply(lambda x: ' '.join([word for word in x.split() if word not in (stop)]))"
   ]
  },
  {
   "cell_type": "code",
   "execution_count": 12,
   "id": "669a3eef",
   "metadata": {},
   "outputs": [],
   "source": [
    "X = df['cleaned_data']\n",
    "y = df['OpenStatus']\n",
    "X_train, X_test, y_train, y_test = train_test_split(X, y, test_size=0.2, random_state=42)"
   ]
  },
  {
   "cell_type": "code",
   "execution_count": 13,
   "id": "93ecb03f",
   "metadata": {},
   "outputs": [
    {
     "data": {
      "text/plain": [
       "((112217,), (28055,), (112217,), (28055,))"
      ]
     },
     "execution_count": 13,
     "metadata": {},
     "output_type": "execute_result"
    }
   ],
   "source": [
    "X_train.shape, X_test.shape, y_train.shape, y_test.shape"
   ]
  },
  {
   "cell_type": "code",
   "execution_count": 14,
   "id": "a360fe4c",
   "metadata": {},
   "outputs": [],
   "source": [
    "\"\"\"\n",
    "****************Start of word2vec and sequential layer testing :)*********************\n",
    "\"\"\"\n",
    "train_sentences = X_train.tolist()\n",
    "test_sentences = X_test.tolist()\n",
    "train_sentences = [word_tokenize(sentence) for sentence in train_sentences]\n",
    "test_sentences = [word_tokenize(sentence) for sentence in test_sentences]\n",
    "\n",
    "model_w2v = Word2Vec(sentences=train_sentences, vector_size=100, window=5, min_count=1, workers=4)\n",
    "\n",
    "def sentence_to_vector(sentence, model_w2v):\n",
    "    vector_list = [model_w2v.wv[word] for word in sentence if word in model_w2v.wv.key_to_index]\n",
    "    if len(vector_list) == 0:\n",
    "        return np.zeros(model_w2v.vector_size)\n",
    "    return np.mean(vector_list, axis=0)\n",
    "\n",
    "train_vectors = np.array([sentence_to_vector(sentence, model_w2v) for sentence in train_sentences])\n",
    "test_vectors = np.array([sentence_to_vector(sentence, model_w2v) for sentence in test_sentences])\n"
   ]
  },
  {
   "cell_type": "code",
   "execution_count": 15,
   "id": "2743063b",
   "metadata": {},
   "outputs": [
    {
     "name": "stdout",
     "output_type": "stream",
     "text": [
      "Metal device set to: Apple M1 Pro\n"
     ]
    },
    {
     "data": {
      "application/vnd.jupyter.widget-view+json": {
       "model_id": "d8b744934fb24fabbbc7affd6c65fdd4",
       "version_major": 2,
       "version_minor": 0
      },
      "text/plain": [
       "0epoch [00:00, ?epoch/s]"
      ]
     },
     "metadata": {},
     "output_type": "display_data"
    },
    {
     "data": {
      "application/vnd.jupyter.widget-view+json": {
       "model_id": "",
       "version_major": 2,
       "version_minor": 0
      },
      "text/plain": [
       "0batch [00:00, ?batch/s]"
      ]
     },
     "metadata": {},
     "output_type": "display_data"
    },
    {
     "name": "stderr",
     "output_type": "stream",
     "text": [
      "2023-05-27 23:32:05.943862: W tensorflow/tsl/platform/profile_utils/cpu_utils.cc:128] Failed to get CPU frequency: 0 Hz\n",
      "2023-05-27 23:32:06.434263: E tensorflow/core/grappler/optimizers/meta_optimizer.cc:954] PluggableGraphOptimizer failed: INVALID_ARGUMENT: Unparseable tensorflow.GraphDef proto\n",
      "2023-05-27 23:32:06.438293: E tensorflow/core/grappler/optimizers/meta_optimizer.cc:954] PluggableGraphOptimizer failed: INVALID_ARGUMENT: Unparseable tensorflow.GraphDef proto\n",
      "2023-05-27 23:32:39.585424: E tensorflow/core/grappler/optimizers/meta_optimizer.cc:954] PluggableGraphOptimizer failed: INVALID_ARGUMENT: Unparseable tensorflow.GraphDef proto\n",
      "2023-05-27 23:32:39.587556: E tensorflow/core/grappler/optimizers/meta_optimizer.cc:954] PluggableGraphOptimizer failed: INVALID_ARGUMENT: Unparseable tensorflow.GraphDef proto\n"
     ]
    },
    {
     "name": "stdout",
     "output_type": "stream",
     "text": [
      " 93/877 [==>...........................] - ETA: 1s"
     ]
    },
    {
     "name": "stderr",
     "output_type": "stream",
     "text": [
      "2023-05-27 23:38:16.074726: E tensorflow/core/grappler/optimizers/meta_optimizer.cc:954] PluggableGraphOptimizer failed: INVALID_ARGUMENT: Unparseable tensorflow.GraphDef proto\n",
      "2023-05-27 23:38:16.075760: E tensorflow/core/grappler/optimizers/meta_optimizer.cc:954] PluggableGraphOptimizer failed: INVALID_ARGUMENT: Unparseable tensorflow.GraphDef proto\n"
     ]
    },
    {
     "name": "stdout",
     "output_type": "stream",
     "text": [
      "877/877 [==============================] - 1s 2ms/step\n",
      "Accuracy: 0.6446266262698271\n",
      "Precision: 0.6209686798547602\n",
      "Recall: 0.6446266262698271\n",
      "F1 Score: 0.6205620276590978\n"
     ]
    },
    {
     "data": {
      "text/plain": [
       "'\\n*************************END OF WORD2VEC AND SEQUENTIAL :( 👎🏻 ***************************\\n'"
      ]
     },
     "execution_count": 15,
     "metadata": {},
     "output_type": "execute_result"
    }
   ],
   "source": [
    "train_vectors_norm = train_vectors / np.linalg.norm(train_vectors, axis=1, keepdims=True)\n",
    "test_vectors_norm = test_vectors / np.linalg.norm(test_vectors, axis=1, keepdims=True)\n",
    "\n",
    "num_classes = 5\n",
    "y_train_encoded = to_categorical(y_train, num_classes=num_classes)\n",
    "y_test_encoded = to_categorical(y_test, num_classes=num_classes)\n",
    "\n",
    "model = Sequential()\n",
    "model.add(Dense(128, activation='relu', input_dim=model_w2v.vector_size))\n",
    "model.add(Dense(64, activation='relu',  kernel_initializer='he_normal'))\n",
    "model.add(Dense(num_classes, activation='softmax'))\n",
    "\n",
    "model.compile(optimizer='adam', loss='categorical_crossentropy', metrics=['accuracy'])\n",
    "\n",
    "history = model.fit(train_vectors_norm, y_train_encoded, validation_data=(test_vectors_norm, y_test_encoded), epochs=10, verbose=0, callbacks=[TqdmCallback(verbose=1)])\n",
    "\n",
    "y_pred = model.predict(test_vectors_norm)\n",
    "y_pred_classes = np.argmax(y_pred, axis=1)\n",
    "\n",
    "accuracy = accuracy_score(y_test, y_pred_classes)\n",
    "precision = precision_score(y_test, y_pred_classes, average='weighted')\n",
    "recall = recall_score(y_test, y_pred_classes, average='weighted')\n",
    "f1 = f1_score(y_test, y_pred_classes, average='weighted')\n",
    "\n",
    "print(f\"Accuracy: {accuracy}\")\n",
    "print(f\"Precision: {precision}\")\n",
    "print(f\"Recall: {recall}\")\n",
    "print(f\"F1 Score: {f1}\")\n",
    "\"\"\"\n",
    "*************************END OF WORD2VEC AND SEQUENTIAL :( 👎🏻 ***************************\n",
    "\"\"\"\n"
   ]
  },
  {
   "cell_type": "code",
   "execution_count": 19,
   "id": "365c1475",
   "metadata": {},
   "outputs": [],
   "source": [
    "model_name = 'all-MiniLM-L6-v2'\n",
    "model = SentenceTransformer(model_name)\n",
    "\n",
    "train_embeddings = model.encode(train_sentences)\n",
    "test_embeddings = model.encode(test_sentences)\n",
    "\n",
    "train_embeddings_norm = normalize(train_embeddings, norm='l2')\n",
    "test_embeddings_norm = normalize(test_embeddings, norm='l2')\n"
   ]
  },
  {
   "cell_type": "code",
   "execution_count": 33,
   "id": "5349c9eb",
   "metadata": {},
   "outputs": [
    {
     "name": "stderr",
     "output_type": "stream",
     "text": [
      "/var/folders/y6/c7mpbpm93zq8g372zm98wyxxrshyks/T/ipykernel_1536/2527682344.py:20: DeprecationWarning: KerasClassifier is deprecated, use Sci-Keras (https://github.com/adriangb/scikeras) instead. See https://www.adriangb.com/scikeras/stable/migration.html for help migrating.\n",
      "  model = KerasClassifier(build_fn=build_model, verbose=0)\n"
     ]
    },
    {
     "data": {
      "application/vnd.jupyter.widget-view+json": {
       "model_id": "5ba58d269c694902aa9102e9c074c42d",
       "version_major": 2,
       "version_minor": 0
      },
      "text/plain": [
       "0epoch [00:00, ?epoch/s]"
      ]
     },
     "metadata": {},
     "output_type": "display_data"
    },
    {
     "data": {
      "application/vnd.jupyter.widget-view+json": {
       "model_id": "",
       "version_major": 2,
       "version_minor": 0
      },
      "text/plain": [
       "0batch [00:00, ?batch/s]"
      ]
     },
     "metadata": {},
     "output_type": "display_data"
    },
    {
     "name": "stderr",
     "output_type": "stream",
     "text": [
      "2023-05-28 00:18:01.719930: E tensorflow/core/grappler/optimizers/meta_optimizer.cc:954] PluggableGraphOptimizer failed: INVALID_ARGUMENT: Unparseable tensorflow.GraphDef proto\n",
      "2023-05-28 00:18:01.724843: E tensorflow/core/grappler/optimizers/meta_optimizer.cc:954] PluggableGraphOptimizer failed: INVALID_ARGUMENT: Unparseable tensorflow.GraphDef proto\n",
      "2023-05-28 00:18:38.002697: E tensorflow/core/grappler/optimizers/meta_optimizer.cc:954] PluggableGraphOptimizer failed: INVALID_ARGUMENT: Unparseable tensorflow.GraphDef proto\n",
      "2023-05-28 00:18:38.005248: E tensorflow/core/grappler/optimizers/meta_optimizer.cc:954] PluggableGraphOptimizer failed: INVALID_ARGUMENT: Unparseable tensorflow.GraphDef proto\n"
     ]
    },
    {
     "name": "stdout",
     "output_type": "stream",
     "text": [
      " 85/877 [=>............................] - ETA: 1s"
     ]
    },
    {
     "name": "stderr",
     "output_type": "stream",
     "text": [
      "2023-05-28 00:25:10.612934: E tensorflow/core/grappler/optimizers/meta_optimizer.cc:954] PluggableGraphOptimizer failed: INVALID_ARGUMENT: Unparseable tensorflow.GraphDef proto\n",
      "2023-05-28 00:25:10.614354: E tensorflow/core/grappler/optimizers/meta_optimizer.cc:954] PluggableGraphOptimizer failed: INVALID_ARGUMENT: Unparseable tensorflow.GraphDef proto\n"
     ]
    },
    {
     "name": "stdout",
     "output_type": "stream",
     "text": [
      "877/877 [==============================] - 2s 2ms/step\n",
      "Accuracy: 0.5431117447870255\n",
      "Precision: 0.4965263235860988\n",
      "Recall: 0.5431117447870255\n",
      "F1 Score: 0.4886309475185096\n"
     ]
    },
    {
     "data": {
      "text/plain": [
       "'\\n************************END OF CNN WITH all-miniLM-L6-v2 MODEL************************\\n'"
      ]
     },
     "execution_count": 33,
     "metadata": {},
     "output_type": "execute_result"
    }
   ],
   "source": [
    "\"\"\"\n",
    "********************START OF CNN WITH all-miniLM-L6-v2 EMBEDDINGS******************\n",
    "\"\"\"\n",
    "input_dim = 1 \n",
    "input_length = train_embeddings_norm.shape[1]  \n",
    "\n",
    "train_data = np.reshape(train_embeddings_norm, (train_embeddings_norm.shape[0], input_length, input_dim))\n",
    "test_data = np.reshape(test_embeddings_norm, (test_embeddings_norm.shape[0], input_length, input_dim))\n",
    "\n",
    "def build_model(filters=64, kernel_size=3, pool_size=2, dense_units=64):\n",
    "    model = Sequential()\n",
    "    model.add(Conv1D(filters=filters, kernel_size=kernel_size, activation='relu', input_shape=(input_length, input_dim)))\n",
    "    model.add(MaxPooling1D(pool_size=pool_size))\n",
    "    model.add(Flatten())\n",
    "    model.add(Dense(dense_units, activation='relu', kernel_initializer='he_normal'))\n",
    "    model.add(Dense(num_classes, activation='softmax'))\n",
    "    model.compile(loss='categorical_crossentropy', optimizer='adam', metrics=['accuracy'])\n",
    "    return model\n",
    "\n",
    "model = KerasClassifier(build_fn=build_model, verbose=0)\n",
    "\n",
    "history = model.fit(train_data, y_train_encoded, validation_data=(test_data, y_test_encoded), epochs=10, verbose=0, callbacks=[TqdmCallback(verbose=1)])\n",
    "\n",
    "y_pred = model.predict(test_data)\n",
    "\n",
    "y_pred_classes = np.argmax(y_pred)\n",
    "\n",
    "accuracy = accuracy_score(y_test, y_pred)\n",
    "precision = precision_score(y_test, y_pred, average='weighted')\n",
    "recall = recall_score(y_test, y_pred, average='weighted')\n",
    "f1 = f1_score(y_test, y_pred, average='weighted')\n",
    "\n",
    "print(f\"Accuracy: {accuracy}\")\n",
    "print(f\"Precision: {precision}\")\n",
    "print(f\"Recall: {recall}\")\n",
    "print(f\"F1 Score: {f1}\")\n",
    "\n",
    "\n",
    "\n",
    "\n",
    "\"\"\"\n",
    "************************END OF CNN WITH all-miniLM-L6-v2 MODEL************************\n",
    "\"\"\"\n"
   ]
  },
  {
   "cell_type": "code",
   "execution_count": 38,
   "id": "64196192",
   "metadata": {},
   "outputs": [
    {
     "name": "stderr",
     "output_type": "stream",
     "text": [
      "/var/folders/y6/c7mpbpm93zq8g372zm98wyxxrshyks/T/ipykernel_1536/2700133248.py:19: DeprecationWarning: KerasClassifier is deprecated, use Sci-Keras (https://github.com/adriangb/scikeras) instead. See https://www.adriangb.com/scikeras/stable/migration.html for help migrating.\n",
      "  model = KerasClassifier(build_fn=build_model, verbose=0)\n"
     ]
    },
    {
     "data": {
      "application/vnd.jupyter.widget-view+json": {
       "model_id": "8639d2239d5d4d97837632f65a335824",
       "version_major": 2,
       "version_minor": 0
      },
      "text/plain": [
       "0epoch [00:00, ?epoch/s]"
      ]
     },
     "metadata": {},
     "output_type": "display_data"
    },
    {
     "data": {
      "application/vnd.jupyter.widget-view+json": {
       "model_id": "",
       "version_major": 2,
       "version_minor": 0
      },
      "text/plain": [
       "0batch [00:00, ?batch/s]"
      ]
     },
     "metadata": {},
     "output_type": "display_data"
    },
    {
     "name": "stderr",
     "output_type": "stream",
     "text": [
      "2023-05-28 00:37:04.563493: E tensorflow/core/grappler/optimizers/meta_optimizer.cc:954] PluggableGraphOptimizer failed: INVALID_ARGUMENT: Unparseable tensorflow.GraphDef proto\n",
      "2023-05-28 00:37:04.584219: E tensorflow/core/grappler/optimizers/meta_optimizer.cc:954] PluggableGraphOptimizer failed: INVALID_ARGUMENT: Unparseable tensorflow.GraphDef proto\n",
      "2023-05-28 00:37:04.623300: E tensorflow/core/grappler/optimizers/meta_optimizer.cc:954] PluggableGraphOptimizer failed: INVALID_ARGUMENT: Unparseable tensorflow.GraphDef proto\n",
      "2023-05-28 00:37:04.625602: E tensorflow/core/grappler/optimizers/meta_optimizer.cc:954] PluggableGraphOptimizer failed: INVALID_ARGUMENT: Unparseable tensorflow.GraphDef proto\n",
      "2023-05-28 00:37:05.035753: E tensorflow/core/grappler/optimizers/meta_optimizer.cc:954] PluggableGraphOptimizer failed: INVALID_ARGUMENT: Unparseable tensorflow.GraphDef proto\n",
      "2023-05-28 00:37:05.038964: E tensorflow/core/grappler/optimizers/meta_optimizer.cc:954] PluggableGraphOptimizer failed: INVALID_ARGUMENT: Unparseable tensorflow.GraphDef proto\n",
      "2023-05-28 00:39:31.487675: E tensorflow/core/grappler/optimizers/meta_optimizer.cc:954] PluggableGraphOptimizer failed: INVALID_ARGUMENT: Unparseable tensorflow.GraphDef proto\n",
      "2023-05-28 00:39:31.496596: E tensorflow/core/grappler/optimizers/meta_optimizer.cc:954] PluggableGraphOptimizer failed: INVALID_ARGUMENT: Unparseable tensorflow.GraphDef proto\n",
      "2023-05-28 00:39:31.518099: E tensorflow/core/grappler/optimizers/meta_optimizer.cc:954] PluggableGraphOptimizer failed: INVALID_ARGUMENT: Unparseable tensorflow.GraphDef proto\n",
      "2023-05-28 00:39:31.519743: E tensorflow/core/grappler/optimizers/meta_optimizer.cc:954] PluggableGraphOptimizer failed: INVALID_ARGUMENT: Unparseable tensorflow.GraphDef proto\n"
     ]
    },
    {
     "name": "stdout",
     "output_type": "stream",
     "text": [
      "  9/877 [..............................] - ETA: 12s"
     ]
    },
    {
     "name": "stderr",
     "output_type": "stream",
     "text": [
      "2023-05-28 01:04:06.097727: E tensorflow/core/grappler/optimizers/meta_optimizer.cc:954] PluggableGraphOptimizer failed: INVALID_ARGUMENT: Unparseable tensorflow.GraphDef proto\n",
      "2023-05-28 01:04:06.105338: E tensorflow/core/grappler/optimizers/meta_optimizer.cc:954] PluggableGraphOptimizer failed: INVALID_ARGUMENT: Unparseable tensorflow.GraphDef proto\n",
      "2023-05-28 01:04:06.120301: E tensorflow/core/grappler/optimizers/meta_optimizer.cc:954] PluggableGraphOptimizer failed: INVALID_ARGUMENT: Unparseable tensorflow.GraphDef proto\n",
      "2023-05-28 01:04:06.121904: E tensorflow/core/grappler/optimizers/meta_optimizer.cc:954] PluggableGraphOptimizer failed: INVALID_ARGUMENT: Unparseable tensorflow.GraphDef proto\n"
     ]
    },
    {
     "name": "stdout",
     "output_type": "stream",
     "text": [
      "877/877 [==============================] - 11s 13ms/step\n",
      "Accuracy: 0.5134200677241133\n",
      "Precision: 0.4300575938593224\n",
      "Recall: 0.5134200677241133\n",
      "F1 Score: 0.3947287024935175\n"
     ]
    },
    {
     "name": "stderr",
     "output_type": "stream",
     "text": [
      "/Users/vipin-16319/miniforge3/envs/tensorflow_crmpy/lib/python3.9/site-packages/sklearn/metrics/_classification.py:1344: UndefinedMetricWarning: Precision is ill-defined and being set to 0.0 in labels with no predicted samples. Use `zero_division` parameter to control this behavior.\n",
      "  _warn_prf(average, modifier, msg_start, len(result))\n"
     ]
    },
    {
     "data": {
      "text/plain": [
       "'\\n************************END OF LSTM WITH all-miniLM-L6-v2 MODEL************************\\n'"
      ]
     },
     "execution_count": 38,
     "metadata": {},
     "output_type": "execute_result"
    }
   ],
   "source": [
    "\"\"\"\n",
    "********************START OF LSTM WITH all-miniLM-L6-v2 EMBEDDINGS******************\n",
    "\"\"\"\n",
    "input_dim = 1 \n",
    "input_length = train_embeddings_norm.shape[1]  \n",
    "from tensorflow.keras.layers import LSTM\n",
    "\n",
    "train_data = np.reshape(train_embeddings_norm, (train_embeddings_norm.shape[0], input_length, input_dim))\n",
    "test_data = np.reshape(test_embeddings_norm, (test_embeddings_norm.shape[0], input_length, input_dim))\n",
    "\n",
    "def build_model(lstm_units=128, dense_units=128):\n",
    "    model = Sequential()\n",
    "    model.add(LSTM(lstm_units, input_shape=(input_length, input_dim)))\n",
    "    model.add(Dense(dense_units, activation='relu', kernel_initializer='he_normal'))\n",
    "    model.add(Dense(num_classes, activation='softmax'))\n",
    "    model.compile(loss='categorical_crossentropy', optimizer='adam', metrics=['accuracy'])\n",
    "    return model\n",
    "\n",
    "model = KerasClassifier(build_fn=build_model, verbose=0)\n",
    "\n",
    "history = model.fit(train_data, y_train_encoded, validation_data=(test_data, y_test_encoded), epochs=10, verbose=0, callbacks=[TqdmCallback(verbose=1)])\n",
    "\n",
    "y_pred = model.predict(test_data)\n",
    "\n",
    "y_pred_classes = np.argmax(y_pred)\n",
    "\n",
    "accuracy = accuracy_score(y_test, y_pred)\n",
    "precision = precision_score(y_test, y_pred, average='weighted')\n",
    "recall = recall_score(y_test, y_pred, average='weighted')\n",
    "f1 = f1_score(y_test, y_pred, average='weighted')\n",
    "\n",
    "print(f\"Accuracy: {accuracy}\")\n",
    "print(f\"Precision: {precision}\")\n",
    "print(f\"Recall: {recall}\")\n",
    "print(f\"F1 Score: {f1}\")\n",
    "\n",
    "\"\"\"\n",
    "************************END OF LSTM WITH all-miniLM-L6-v2 MODEL************************\n",
    "\"\"\"\n"
   ]
  },
  {
   "cell_type": "code",
   "execution_count": 46,
   "id": "df90ab96",
   "metadata": {},
   "outputs": [
    {
     "name": "stderr",
     "output_type": "stream",
     "text": [
      "\n",
      "\n",
      "  0%|                                                                                                                                                                                         | 0/100 [00:00<?, ?it/s]\u001b[A\u001b[A\n",
      "\n",
      "  1%|█▊                                                                                                                                                                               | 1/100 [00:00<01:25,  1.16it/s]\u001b[A\u001b[A\n",
      "\n",
      "  2%|███▌                                                                                                                                                                             | 2/100 [00:01<01:30,  1.08it/s]\u001b[A\u001b[A\n",
      "\n",
      "  3%|█████▎                                                                                                                                                                           | 3/100 [00:02<01:24,  1.15it/s]\u001b[A\u001b[A\n",
      "\n",
      "  4%|███████                                                                                                                                                                          | 4/100 [00:03<01:22,  1.16it/s]\u001b[A\u001b[A\n",
      "\n",
      "  5%|████████▊                                                                                                                                                                        | 5/100 [00:04<01:19,  1.19it/s]\u001b[A\u001b[A\n",
      "\n",
      "  6%|██████████▌                                                                                                                                                                      | 6/100 [00:05<01:21,  1.16it/s]\u001b[A\u001b[A\n",
      "\n",
      "  7%|████████████▍                                                                                                                                                                    | 7/100 [00:06<01:27,  1.06it/s]\u001b[A\u001b[A\n",
      "\n",
      "  8%|██████████████▏                                                                                                                                                                  | 8/100 [00:07<01:29,  1.03it/s]\u001b[A\u001b[A\n",
      "\n",
      "  9%|███████████████▉                                                                                                                                                                 | 9/100 [00:08<01:25,  1.07it/s]\u001b[A\u001b[A\n",
      "\n",
      " 10%|█████████████████▌                                                                                                                                                              | 10/100 [00:09<01:26,  1.04it/s]\u001b[A\u001b[A\n",
      "\n",
      " 11%|███████████████████▎                                                                                                                                                            | 11/100 [00:10<01:26,  1.03it/s]\u001b[A\u001b[A\n",
      "\n",
      " 12%|█████████████████████                                                                                                                                                           | 12/100 [00:11<01:22,  1.07it/s]\u001b[A\u001b[A\n",
      "\n",
      " 13%|██████████████████████▉                                                                                                                                                         | 13/100 [00:11<01:18,  1.11it/s]\u001b[A\u001b[A\n",
      "\n",
      " 14%|████████████████████████▋                                                                                                                                                       | 14/100 [00:12<01:21,  1.06it/s]\u001b[A\u001b[A\n",
      "\n",
      " 15%|██████████████████████████▍                                                                                                                                                     | 15/100 [00:13<01:22,  1.03it/s]\u001b[A\u001b[A\n",
      "\n",
      " 16%|████████████████████████████▏                                                                                                                                                   | 16/100 [00:14<01:20,  1.04it/s]\u001b[A\u001b[A\n",
      "\n",
      " 17%|█████████████████████████████▉                                                                                                                                                  | 17/100 [00:15<01:21,  1.02it/s]\u001b[A\u001b[A\n",
      "\n",
      " 18%|███████████████████████████████▋                                                                                                                                                | 18/100 [00:17<01:36,  1.18s/it]\u001b[A\u001b[A\n",
      "\n",
      " 19%|█████████████████████████████████▍                                                                                                                                              | 19/100 [00:18<01:31,  1.14s/it]\u001b[A\u001b[A\n",
      "\n",
      " 20%|███████████████████████████████████▏                                                                                                                                            | 20/100 [00:19<01:33,  1.17s/it]\u001b[A\u001b[A\n",
      "\n",
      " 21%|████████████████████████████████████▉                                                                                                                                           | 21/100 [00:20<01:29,  1.14s/it]\u001b[A\u001b[A\n",
      "\n",
      " 22%|██████████████████████████████████████▋                                                                                                                                         | 22/100 [00:22<01:29,  1.15s/it]\u001b[A\u001b[A\n",
      "\n",
      " 23%|████████████████████████████████████████▍                                                                                                                                       | 23/100 [00:23<01:28,  1.15s/it]\u001b[A\u001b[A\n",
      "\n",
      " 24%|██████████████████████████████████████████▏                                                                                                                                     | 24/100 [00:24<01:22,  1.09s/it]\u001b[A\u001b[A\n",
      "\n",
      " 25%|████████████████████████████████████████████                                                                                                                                    | 25/100 [00:25<01:22,  1.10s/it]\u001b[A\u001b[A\n",
      "\n",
      " 26%|█████████████████████████████████████████████▊                                                                                                                                  | 26/100 [00:26<01:14,  1.01s/it]\u001b[A\u001b[A\n",
      "\n",
      " 27%|███████████████████████████████████████████████▌                                                                                                                                | 27/100 [00:26<01:07,  1.08it/s]\u001b[A\u001b[A\n",
      "\n",
      " 28%|█████████████████████████████████████████████████▎                                                                                                                              | 28/100 [00:27<01:02,  1.14it/s]\u001b[A\u001b[A\n",
      "\n",
      " 29%|███████████████████████████████████████████████████                                                                                                                             | 29/100 [00:28<01:01,  1.16it/s]\u001b[A\u001b[A\n",
      "\n",
      " 30%|████████████████████████████████████████████████████▊                                                                                                                           | 30/100 [00:29<00:57,  1.21it/s]\u001b[A\u001b[A\n",
      "\n",
      " 31%|██████████████████████████████████████████████████████▌                                                                                                                         | 31/100 [00:29<00:54,  1.27it/s]\u001b[A\u001b[A\n",
      "\n",
      " 32%|████████████████████████████████████████████████████████▎                                                                                                                       | 32/100 [00:30<00:53,  1.27it/s]\u001b[A\u001b[A\n",
      "\n",
      " 33%|██████████████████████████████████████████████████████████                                                                                                                      | 33/100 [00:31<00:52,  1.29it/s]\u001b[A\u001b[A\n",
      "\n",
      " 34%|███████████████████████████████████████████████████████████▊                                                                                                                    | 34/100 [00:32<00:51,  1.29it/s]\u001b[A\u001b[A\n",
      "\n",
      " 35%|█████████████████████████████████████████████████████████████▌                                                                                                                  | 35/100 [00:32<00:50,  1.28it/s]\u001b[A\u001b[A\n",
      "\n"
     ]
    },
    {
     "name": "stderr",
     "output_type": "stream",
     "text": [
      " 36%|███████████████████████████████████████████████████████████████▎                                                                                                                | 36/100 [00:33<00:49,  1.30it/s]\u001b[A\u001b[A\n",
      "\n",
      " 37%|█████████████████████████████████████████████████████████████████                                                                                                               | 37/100 [00:34<00:47,  1.33it/s]\u001b[A\u001b[A\n",
      "\n",
      " 38%|██████████████████████████████████████████████████████████████████▉                                                                                                             | 38/100 [00:35<00:45,  1.35it/s]\u001b[A\u001b[A\n",
      "\n",
      " 39%|████████████████████████████████████████████████████████████████████▋                                                                                                           | 39/100 [00:35<00:45,  1.35it/s]\u001b[A\u001b[A\n",
      "\n",
      " 40%|██████████████████████████████████████████████████████████████████████▍                                                                                                         | 40/100 [00:36<00:44,  1.36it/s]\u001b[A\u001b[A\n",
      "\n",
      " 41%|████████████████████████████████████████████████████████████████████████▏                                                                                                       | 41/100 [00:37<00:51,  1.14it/s]\u001b[A\u001b[A\n",
      "\n",
      " 42%|█████████████████████████████████████████████████████████████████████████▉                                                                                                      | 42/100 [00:39<01:00,  1.05s/it]\u001b[A\u001b[A\n",
      "\n",
      " 43%|███████████████████████████████████████████████████████████████████████████▋                                                                                                    | 43/100 [00:40<01:07,  1.19s/it]\u001b[A\u001b[A\n",
      "\n",
      " 44%|█████████████████████████████████████████████████████████████████████████████▍                                                                                                  | 44/100 [00:42<01:13,  1.31s/it]\u001b[A\u001b[A\n",
      "\n",
      " 45%|███████████████████████████████████████████████████████████████████████████████▏                                                                                                | 45/100 [00:43<01:01,  1.13s/it]\u001b[A\u001b[A\n",
      "\n",
      " 46%|████████████████████████████████████████████████████████████████████████████████▉                                                                                               | 46/100 [00:43<00:55,  1.03s/it]\u001b[A\u001b[A\n",
      "\n",
      " 47%|██████████████████████████████████████████████████████████████████████████████████▋                                                                                             | 47/100 [00:44<00:50,  1.05it/s]\u001b[A\u001b[A\n",
      "\n",
      " 48%|████████████████████████████████████████████████████████████████████████████████████▍                                                                                           | 48/100 [00:45<00:46,  1.11it/s]\u001b[A\u001b[A\n",
      "\n",
      " 49%|██████████████████████████████████████████████████████████████████████████████████████▏                                                                                         | 49/100 [00:46<00:43,  1.18it/s]\u001b[A\u001b[A\n",
      "\n",
      " 50%|████████████████████████████████████████████████████████████████████████████████████████                                                                                        | 50/100 [00:46<00:40,  1.23it/s]\u001b[A\u001b[A\n",
      "\n",
      " 51%|█████████████████████████████████████████████████████████████████████████████████████████▊                                                                                      | 51/100 [00:47<00:38,  1.29it/s]\u001b[A\u001b[A\n",
      "\n",
      " 52%|███████████████████████████████████████████████████████████████████████████████████████████▌                                                                                    | 52/100 [00:48<00:36,  1.31it/s]\u001b[A\u001b[A\n",
      "\n",
      " 53%|█████████████████████████████████████████████████████████████████████████████████████████████▎                                                                                  | 53/100 [00:49<00:35,  1.34it/s]\u001b[A\u001b[A\n",
      "\n",
      " 54%|███████████████████████████████████████████████████████████████████████████████████████████████                                                                                 | 54/100 [00:50<00:37,  1.22it/s]\u001b[A\u001b[A\n",
      "\n",
      " 55%|████████████████████████████████████████████████████████████████████████████████████████████████▊                                                                               | 55/100 [00:50<00:38,  1.17it/s]\u001b[A\u001b[A\n",
      "\n",
      " 56%|██████████████████████████████████████████████████████████████████████████████████████████████████▌                                                                             | 56/100 [00:52<00:43,  1.00it/s]\u001b[A\u001b[A\n",
      "\n",
      " 57%|████████████████████████████████████████████████████████████████████████████████████████████████████▎                                                                           | 57/100 [00:53<00:47,  1.11s/it]\u001b[A\u001b[A\n",
      "\n",
      " 58%|██████████████████████████████████████████████████████████████████████████████████████████████████████                                                                          | 58/100 [00:54<00:48,  1.15s/it]\u001b[A\u001b[A\n",
      "\n",
      " 59%|███████████████████████████████████████████████████████████████████████████████████████████████████████▊                                                                        | 59/100 [00:55<00:46,  1.14s/it]\u001b[A\u001b[A\n",
      "\n",
      " 60%|█████████████████████████████████████████████████████████████████████████████████████████████████████████▌                                                                      | 60/100 [00:56<00:40,  1.01s/it]\u001b[A\u001b[A\n",
      "\n",
      " 61%|███████████████████████████████████████████████████████████████████████████████████████████████████████████▎                                                                    | 61/100 [00:57<00:35,  1.10it/s]\u001b[A\u001b[A\n",
      "\n",
      " 62%|█████████████████████████████████████████████████████████████████████████████████████████████████████████████                                                                   | 62/100 [00:58<00:31,  1.19it/s]\u001b[A\u001b[A\n",
      "\n",
      " 63%|██████████████████████████████████████████████████████████████████████████████████████████████████████████████▉                                                                 | 63/100 [00:58<00:30,  1.20it/s]\u001b[A\u001b[A\n",
      "\n",
      " 64%|████████████████████████████████████████████████████████████████████████████████████████████████████████████████▋                                                               | 64/100 [00:59<00:30,  1.18it/s]\u001b[A\u001b[A\n",
      "\n",
      " 65%|██████████████████████████████████████████████████████████████████████████████████████████████████████████████████▍                                                             | 65/100 [01:00<00:28,  1.21it/s]\u001b[A\u001b[A\n",
      "\n",
      " 66%|████████████████████████████████████████████████████████████████████████████████████████████████████████████████████▏                                                           | 66/100 [01:01<00:28,  1.18it/s]\u001b[A\u001b[A\n",
      "\n",
      " 67%|█████████████████████████████████████████████████████████████████████████████████████████████████████████████████████▉                                                          | 67/100 [01:02<00:29,  1.12it/s]\u001b[A\u001b[A\n",
      "\n",
      " 68%|███████████████████████████████████████████████████████████████████████████████████████████████████████████████████████▋                                                        | 68/100 [01:03<00:29,  1.10it/s]\u001b[A\u001b[A\n",
      "\n",
      " 69%|█████████████████████████████████████████████████████████████████████████████████████████████████████████████████████████▍                                                      | 69/100 [01:04<00:29,  1.04it/s]\u001b[A\u001b[A\n",
      "\n",
      " 70%|███████████████████████████████████████████████████████████████████████████████████████████████████████████████████████████▏                                                    | 70/100 [01:05<00:29,  1.02it/s]\u001b[A\u001b[A\n",
      "\n",
      " 71%|████████████████████████████████████████████████████████████████████████████████████████████████████████████████████████████▉                                                   | 71/100 [01:06<00:29,  1.00s/it]\u001b[A\u001b[A\n",
      "\n"
     ]
    },
    {
     "name": "stderr",
     "output_type": "stream",
     "text": [
      " 72%|██████████████████████████████████████████████████████████████████████████████████████████████████████████████████████████████▋                                                 | 72/100 [01:07<00:27,  1.02it/s]\u001b[A\u001b[A\n",
      "\n",
      " 73%|████████████████████████████████████████████████████████████████████████████████████████████████████████████████████████████████▍                                               | 73/100 [01:08<00:26,  1.03it/s]\u001b[A\u001b[A\n",
      "\n",
      " 74%|██████████████████████████████████████████████████████████████████████████████████████████████████████████████████████████████████▏                                             | 74/100 [01:09<00:25,  1.03it/s]\u001b[A\u001b[A\n",
      "\n",
      " 75%|████████████████████████████████████████████████████████████████████████████████████████████████████████████████████████████████████                                            | 75/100 [01:10<00:24,  1.02it/s]\u001b[A\u001b[A\n",
      "\n",
      " 76%|█████████████████████████████████████████████████████████████████████████████████████████████████████████████████████████████████████▊                                          | 76/100 [01:11<00:25,  1.05s/it]\u001b[A\u001b[A\n",
      "\n",
      " 77%|███████████████████████████████████████████████████████████████████████████████████████████████████████████████████████████████████████▌                                        | 77/100 [01:12<00:23,  1.03s/it]\u001b[A\u001b[A\n",
      "\n",
      " 78%|█████████████████████████████████████████████████████████████████████████████████████████████████████████████████████████████████████████▎                                      | 78/100 [01:13<00:23,  1.06s/it]\u001b[A\u001b[A\n",
      "\n",
      " 79%|███████████████████████████████████████████████████████████████████████████████████████████████████████████████████████████████████████████                                     | 79/100 [01:15<00:23,  1.14s/it]\u001b[A\u001b[A\n",
      "\n",
      " 80%|████████████████████████████████████████████████████████████████████████████████████████████████████████████████████████████████████████████▊                                   | 80/100 [01:16<00:23,  1.20s/it]\u001b[A\u001b[A\n",
      "\n",
      " 81%|██████████████████████████████████████████████████████████████████████████████████████████████████████████████████████████████████████████████▌                                 | 81/100 [01:17<00:22,  1.17s/it]\u001b[A\u001b[A\n",
      "\n",
      " 82%|████████████████████████████████████████████████████████████████████████████████████████████████████████████████████████████████████████████████▎                               | 82/100 [01:18<00:20,  1.12s/it]\u001b[A\u001b[A\n",
      "\n",
      " 83%|██████████████████████████████████████████████████████████████████████████████████████████████████████████████████████████████████████████████████                              | 83/100 [01:19<00:19,  1.12s/it]\u001b[A\u001b[A\n",
      "\n",
      " 84%|███████████████████████████████████████████████████████████████████████████████████████████████████████████████████████████████████████████████████▊                            | 84/100 [01:20<00:16,  1.05s/it]\u001b[A\u001b[A\n",
      "\n",
      " 85%|█████████████████████████████████████████████████████████████████████████████████████████████████████████████████████████████████████████████████████▌                          | 85/100 [01:21<00:17,  1.13s/it]\u001b[A\u001b[A\n",
      "\n",
      " 86%|███████████████████████████████████████████████████████████████████████████████████████████████████████████████████████████████████████████████████████▎                        | 86/100 [01:23<00:16,  1.16s/it]\u001b[A\u001b[A\n",
      "\n",
      " 87%|█████████████████████████████████████████████████████████████████████████████████████████████████████████████████████████████████████████████████████████                       | 87/100 [01:24<00:14,  1.12s/it]\u001b[A\u001b[A\n",
      "\n",
      " 88%|██████████████████████████████████████████████████████████████████████████████████████████████████████████████████████████████████████████████████████████▉                     | 88/100 [01:24<00:12,  1.03s/it]\u001b[A\u001b[A\n",
      "\n",
      " 89%|████████████████████████████████████████████████████████████████████████████████████████████████████████████████████████████████████████████████████████████▋                   | 89/100 [01:25<00:10,  1.04it/s]\u001b[A\u001b[A\n",
      "\n",
      " 90%|██████████████████████████████████████████████████████████████████████████████████████████████████████████████████████████████████████████████████████████████▍                 | 90/100 [01:26<00:10,  1.00s/it]\u001b[A\u001b[A\n",
      "\n",
      " 91%|████████████████████████████████████████████████████████████████████████████████████████████████████████████████████████████████████████████████████████████████▏               | 91/100 [01:27<00:08,  1.04it/s]\u001b[A\u001b[A\n",
      "\n",
      " 92%|█████████████████████████████████████████████████████████████████████████████████████████████████████████████████████████████████████████████████████████████████▉              | 92/100 [01:28<00:07,  1.04it/s]\u001b[A\u001b[A\n",
      "\n",
      " 93%|███████████████████████████████████████████████████████████████████████████████████████████████████████████████████████████████████████████████████████████████████▋            | 93/100 [01:29<00:06,  1.09it/s]\u001b[A\u001b[A\n",
      "\n",
      " 94%|█████████████████████████████████████████████████████████████████████████████████████████████████████████████████████████████████████████████████████████████████████▍          | 94/100 [01:30<00:05,  1.15it/s]\u001b[A\u001b[A\n",
      "\n",
      " 95%|███████████████████████████████████████████████████████████████████████████████████████████████████████████████████████████████████████████████████████████████████████▏        | 95/100 [01:30<00:04,  1.19it/s]\u001b[A\u001b[A\n",
      "\n",
      " 96%|████████████████████████████████████████████████████████████████████████████████████████████████████████████████████████████████████████████████████████████████████████▉       | 96/100 [01:31<00:03,  1.23it/s]\u001b[A\u001b[A\n",
      "\n",
      " 97%|██████████████████████████████████████████████████████████████████████████████████████████████████████████████████████████████████████████████████████████████████████████▋     | 97/100 [01:32<00:02,  1.28it/s]\u001b[A\u001b[A\n",
      "\n",
      " 98%|████████████████████████████████████████████████████████████████████████████████████████████████████████████████████████████████████████████████████████████████████████████▍   | 98/100 [01:33<00:01,  1.27it/s]\u001b[A\u001b[A\n",
      "\n",
      " 99%|██████████████████████████████████████████████████████████████████████████████████████████████████████████████████████████████████████████████████████████████████████████████▏ | 99/100 [01:34<00:00,  1.26it/s]\u001b[A\u001b[A\n",
      "\n",
      "100%|███████████████████████████████████████████████████████████████████████████████████████████████████████████████████████████████████████████████████████████████████████████████| 100/100 [01:34<00:00,  1.06it/s]\u001b[A\u001b[A"
     ]
    },
    {
     "name": "stdout",
     "output_type": "stream",
     "text": [
      "              precision    recall  f1-score   support\n",
      "\n",
      "           0       0.59      0.72      0.65     13938\n",
      "           1       0.32      0.26      0.29      6196\n",
      "           2       0.36      0.26      0.30      3563\n",
      "           3       0.42      0.39      0.40      3110\n",
      "           4       0.14      0.05      0.07      1248\n",
      "\n",
      "    accuracy                           0.49     28055\n",
      "   macro avg       0.36      0.33      0.34     28055\n",
      "weighted avg       0.46      0.49      0.47     28055\n",
      "\n"
     ]
    },
    {
     "name": "stderr",
     "output_type": "stream",
     "text": [
      "\n"
     ]
    }
   ],
   "source": [
    "from sklearn.neural_network import MLPClassifier\n",
    "from sklearn.metrics import classification_report\n",
    "from sklearn.preprocessing import LabelEncoder\n",
    "from tqdm import tqdm\n",
    "\n",
    "label_encoder = LabelEncoder()\n",
    "y_train_encoded = label_encoder.fit_transform(y_train)\n",
    "y_test_encoded = label_encoder.transform(y_test)\n",
    "\n",
    "mlp = MLPClassifier(hidden_layer_sizes=(150,), max_iter=300, alpha=1e-4,\n",
    "                    solver='sgd', verbose=0, random_state=1,\n",
    "                    learning_rate_init=.1)\n",
    "\n",
    "for i in tqdm(range(100), dynamic_ncols=True):\n",
    "    mlp.partial_fit(train_embeddings_norm, y_train_encoded, classes=np.unique(y_train_encoded))\n",
    "\n",
    "y_pred_encoded = mlp.predict(test_embeddings_norm)\n",
    "y_pred = label_encoder.inverse_transform(y_pred_encoded)\n",
    "\n",
    "print(classification_report(y_test, y_pred))\n"
   ]
  },
  {
   "cell_type": "code",
   "execution_count": null,
   "id": "3a5406fe",
   "metadata": {},
   "outputs": [],
   "source": []
  }
 ],
 "metadata": {
  "kernelspec": {
   "display_name": "Python 3 (ipykernel)",
   "language": "python",
   "name": "python3"
  },
  "language_info": {
   "codemirror_mode": {
    "name": "ipython",
    "version": 3
   },
   "file_extension": ".py",
   "mimetype": "text/x-python",
   "name": "python",
   "nbconvert_exporter": "python",
   "pygments_lexer": "ipython3",
   "version": "3.9.16"
  }
 },
 "nbformat": 4,
 "nbformat_minor": 5
}
